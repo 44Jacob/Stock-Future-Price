{
 "cells": [
  {
   "cell_type": "code",
   "execution_count": 26,
   "id": "62dce594",
   "metadata": {},
   "outputs": [],
   "source": [
    "import nltk\n",
    "import requests\n",
    "import warnings\n",
    "from sqlalchemy import text\n",
    "from textblob import TextBlob\n",
    "from nltk.sentiment import SentimentIntensityAnalyzer\n",
    "\n",
    "# Data manipulation and analysis\n",
    "import numpy as np\n",
    "import pandas as pd\n",
    "from scipy.optimize import minimize\n",
    "from sqlalchemy.orm import sessionmaker\n",
    "import matplotlib.dates as mdates\n",
    "\n",
    "from datetime import datetime\n",
    "from datetime import timedelta\n",
    "\n",
    "# Financial data extraction\n",
    "import yfinance as yf\n",
    "\n",
    "# SQL Alchemy for database interaction\n",
    "from sqlalchemy import create_engine\n",
    "\n",
    "# Additional libraries for analysis or visualization\n",
    "import matplotlib.pyplot as plt\n",
    "import seaborn as sns\n",
    "from config import api_key\n",
    "\n",
    "from sklearn.metrics import mean_squared_error\n",
    "from sklearn.linear_model import LinearRegression\n",
    "from sklearn.model_selection import train_test_split"
   ]
  },
  {
   "cell_type": "code",
   "execution_count": 27,
   "id": "7bce5a31",
   "metadata": {
    "ExecuteTime": {
     "end_time": "2024-04-12T03:02:03.019432Z",
     "start_time": "2024-04-12T03:02:03.002631Z"
    }
   },
   "outputs": [],
   "source": [
    "def fetch_stock_data(ticker, start_date, end_date):\n",
    "    \"\"\"\n",
    "    Fetches historical stock prices for the specified ticker within the given timeframe.\n",
    "    \"\"\"\n",
    "    stock_data = yf.download(ticker, start=start_date, end=end_date)\n",
    "    return stock_data\n"
   ]
  },
  {
   "cell_type": "code",
   "execution_count": 28,
   "id": "b8ff7c68",
   "metadata": {},
   "outputs": [],
   "source": [
    "def fetch_all_stock_data(tickers, start_date, end_date):\n",
    "    stock_data = {}\n",
    "    for ticker in tickers:\n",
    "        print(f\"Fetching data for {ticker}\")\n",
    "        stock_data[ticker] = yf.download(ticker, start=start_date, end=end_date)\n",
    "    return stock_data"
   ]
  },
  {
   "cell_type": "code",
   "execution_count": 29,
   "id": "18c13fb6",
   "metadata": {},
   "outputs": [],
   "source": [
    "# Function to fetch headlines from NewsAPI\n",
    "def fetch_news(api_key, ticker):\n",
    "    base_url = \"https://newsapi.org/v2/everything\"\n",
    "    params = {\n",
    "        'q': ticker,             # Search query (ticker symbol)\n",
    "        'sortBy': 'publishedAt', # Sort by publication date\n",
    "        'apiKey': api_key        # Your NewsAPI key\n",
    "    }\n",
    "    response = requests.get(base_url, params=params)\n",
    "    articles = response.json().get('articles', [])\n",
    "    headlines = [article['title'] for article in articles]\n",
    "    return headlines"
   ]
  },
  {
   "cell_type": "code",
   "execution_count": 30,
   "id": "63552670",
   "metadata": {},
   "outputs": [],
   "source": [
    "def get_avg_sentiment_scores():\n",
    "    textual_data = {}\n",
    "    tickers = ['MSFT', 'CRM', 'CRWD', 'ZM', 'SHOP', 'AAPL']\n",
    "\n",
    "    for ticker in tickers:\n",
    "        headlines = fetch_news(api_key, ticker)\n",
    "        textual_data[ticker] = headlines\n",
    "\n",
    "    # Analyzing sentiment for each headline and averaging the scores\n",
    "    average_sentiment_scores = {}\n",
    "\n",
    "    for ticker, headlines in textual_data.items():\n",
    "        sentiments = [TextBlob(headline).sentiment.polarity if headline else 0 for headline in headlines]\n",
    "        average_sentiment_scores[ticker] = np.mean(sentiments)\n",
    "\n",
    "    # Extract tickers and sentiment scores\n",
    "    tickers = list(average_sentiment_scores.keys())\n",
    "    sentiment_scores = list(average_sentiment_scores.values())\n",
    "\n",
    "    pd.DataFrame(sentiment_scores, tickers,['Average Sentiment Score']).\\\n",
    "        to_json('static/Resources/Average_Sentiment_Score.json') "
   ]
  },
  {
   "cell_type": "code",
   "execution_count": 31,
   "id": "783c87d1",
   "metadata": {
    "ExecuteTime": {
     "start_time": "2024-04-12T03:02:03.009159Z"
    }
   },
   "outputs": [],
   "source": [
    "def calculate_daily_return(stock_data):\n",
    "    \"\"\"\n",
    "    Calculates the daily return from the closing prices.\n",
    "    \"\"\"\n",
    "    stock_data['Daily_Return'] = stock_data['Close'].pct_change()\n",
    "    return stock_data\n"
   ]
  },
  {
   "cell_type": "code",
   "execution_count": 32,
   "id": "990b375f",
   "metadata": {
    "ExecuteTime": {
     "start_time": "2024-04-12T03:02:03.015849Z"
    }
   },
   "outputs": [],
   "source": [
    "def load_data_to_db(data, ticker):\n",
    "    \"\"\"\n",
    "    Loads transformed data into the SQLite database.\n",
    "    \"\"\"\n",
    "    engine = create_engine('sqlite:///stock_market_analysis.sqlite')\n",
    "    data.to_sql(ticker, con=engine, if_exists='replace', index=True)\n"
   ]
  },
  {
   "cell_type": "code",
   "execution_count": 33,
   "id": "248ab0f6",
   "metadata": {
    "ExecuteTime": {
     "start_time": "2024-04-12T03:02:03.034191Z"
    }
   },
   "outputs": [],
   "source": [
    "def read_data(ticker):\n",
    "    \"\"\"\n",
    "    Reads the data for the specified ticker from the SQLite database.\n",
    "    \"\"\"\n",
    "    engine = create_engine('sqlite:///stock_market_analysis.sqlite')\n",
    "    query = f\"SELECT * FROM '{ticker}'\"\n",
    "    data = pd.read_sql_query(query, con=engine)\n",
    "    return data\n"
   ]
  },
  {
   "cell_type": "code",
   "execution_count": 34,
   "id": "267a9e32",
   "metadata": {},
   "outputs": [],
   "source": [
    "def plot_moving_averages(stock_data, ticker):\n",
    "    data = stock_data[ticker]\n",
    "    data['SMA_50'] = data['Close'].rolling(window=50).mean()\n",
    "    data['SMA_200'] = data['Close'].rolling(window=200).mean()\n",
    "    \n",
    "    plt.figure(figsize=(14, 7))\n",
    "    plt.plot(data['Close'], label='Close Price', alpha=0.5)\n",
    "    plt.plot(data['SMA_50'], label='50-Day SMA')\n",
    "    plt.plot(data['SMA_200'], label='200-Day SMA')\n",
    "    plt.title(f\"{ticker} - Moving Averages\")\n",
    "    plt.xlabel(\"Date\")\n",
    "    plt.ylabel(\"Price (USD)\")\n",
    "    plt.legend()\n",
    "    plt.show()"
   ]
  },
  {
   "cell_type": "code",
   "execution_count": 35,
   "id": "f205f45c",
   "metadata": {},
   "outputs": [],
   "source": [
    "def predict_monthly_prices(model, last_known_price, last_known_date, months=36):\n",
    "    future_prices = []\n",
    "    future_dates = []\n",
    "    current_price = last_known_price\n",
    "    \n",
    "    for month in range(months):\n",
    "        # Approximating each month by 21 trading days\n",
    "        for day in range(21):\n",
    "            next_input = pd.DataFrame(data=[[current_price]], columns=['Previous Close'])\n",
    "            current_price = model.predict(next_input)[0]\n",
    "        \n",
    "        future_prices.append(current_price)\n",
    "        # Assuming last_known_date is a datetime object; add roughly 30 days for each month\n",
    "        last_known_date += timedelta(days=30)\n",
    "        future_dates.append(last_known_date)\n",
    "    \n",
    "    return future_dates, future_prices"
   ]
  },
  {
   "cell_type": "code",
   "execution_count": 36,
   "id": "44d0e049",
   "metadata": {},
   "outputs": [],
   "source": [
    "def train_model_for_ticker(ticker_data):\n",
    "    \"\"\"\n",
    "    Trains a LinearRegression model for the given ticker data.\n",
    "    \"\"\"\n",
    "    data = ticker_data[['Close']].copy()\n",
    "    data['Previous Close'] = data['Close'].shift(1)\n",
    "    data.dropna(inplace=True)  # Drop the first row which now contains NaN\n",
    "\n",
    "    X = data[['Previous Close']]  # Features\n",
    "    y = data['Close']  # Target\n",
    "\n",
    "    model = LinearRegression()\n",
    "    model.fit(X, y)  # Training the model\n",
    "    return model"
   ]
  },
  {
   "cell_type": "code",
   "execution_count": 37,
   "id": "263572fe",
   "metadata": {},
   "outputs": [],
   "source": [
    "# Objective Function (Negative Sharpe Ratio)\n",
    "def neg_sharpe_ratio(weights, expected_returns, cov_matrix, risk_free_rate=0.01):\n",
    "    p_var = np.dot(weights.T, np.dot(cov_matrix, weights))\n",
    "    p_ret = np.dot(weights, expected_returns)\n",
    "    return -(p_ret - risk_free_rate) / np.sqrt(p_var)"
   ]
  },
  {
   "cell_type": "code",
   "execution_count": 38,
   "id": "bd03318c",
   "metadata": {},
   "outputs": [],
   "source": [
    "def analyze_sentiment(text):\n",
    "    \"\"\"Analyze the sentiment of a text and return polarity and subjectivity.\"\"\"\n",
    "    analysis = TextBlob(text)\n",
    "    return analysis.sentiment.polarity, analysis.sentiment.subjectivity"
   ]
  },
  {
   "cell_type": "code",
   "execution_count": 39,
   "id": "ad1cda21",
   "metadata": {},
   "outputs": [],
   "source": [
    "def main():\n",
    "    tickers = ['MSFT', 'CRM', 'CRWD', 'ZM', 'SHOP', 'AAPL']\n",
    "\n",
    "    for ticker in tickers:\n",
    "        print(f\"Fetching news for: {ticker}\")\n",
    "        articles = fetch_news(api_key, ticker)\n",
    "        if articles['status'] == 'ok':\n",
    "            for article in articles['articles'][:5]:  # Show only the first 5 articles for brevity\n",
    "                description = article.get('description') or article.get('title')\n",
    "                polarity, subjectivity = analyze_sentiment(description)\n",
    "                print(f\"Ticker: {ticker}, Title: {article['title']}\")\n",
    "                print(f\"Sentiment Polarity: {polarity:.2f}, Sentiment Subjectivity: {subjectivity:.2f}\")\n",
    "                print(f\"URL: {article['url']}\\n\")\n",
    "    \n",
    "    return articles\n"
   ]
  },
  {
   "cell_type": "code",
   "execution_count": 40,
   "id": "c212e077",
   "metadata": {},
   "outputs": [],
   "source": [
    "def fetch_data(ticker):\n",
    "    stock = yf.Ticker(ticker)\n",
    "    data = stock.history(period=\"5y\")\n",
    "    return data['Close']\n",
    "\n",
    "def calculate_parameters(tickers):\n",
    "    prices = {ticker: fetch_data(ticker) for ticker in tickers}\n",
    "    prices = pd.DataFrame(prices)\n",
    "    daily_returns = prices.pct_change()\n",
    "    annual_mean_returns = daily_returns.mean() * 252\n",
    "    annual_std_devs = daily_returns.std() * np.sqrt(252)\n",
    "    return {ticker: {'mean': annual_mean_returns[ticker], 'std': annual_std_devs[ticker]}\n",
    "            for ticker in tickers}\n",
    "\n",
    "\n",
    "def calculate_expected_returns(tickers):\n",
    "    prices = pd.DataFrame({ticker: fetch_data(ticker) for ticker in tickers})\n",
    "    daily_returns = prices.pct_change()\n",
    "    average_daily_returns = daily_returns.mean()\n",
    "    annual_expected_returns = average_daily_returns * 252  # Convert to annual returns\n",
    "    return annual_expected_returns\n"
   ]
  },
  {
   "cell_type": "code",
   "execution_count": null,
   "id": "44f391a0",
   "metadata": {},
   "outputs": [],
   "source": []
  },
  {
   "cell_type": "code",
   "execution_count": null,
   "id": "fc96bc8b",
   "metadata": {},
   "outputs": [],
   "source": []
  },
  {
   "cell_type": "code",
   "execution_count": 44,
   "id": "b1c87ae0",
   "metadata": {},
   "outputs": [
    {
     "name": "stdout",
     "output_type": "stream",
     "text": [
      "   index                        Date       Open       High        Low  \\\n",
      "0      0  2020-01-02 00:00:00.000000  74.059998  75.150002  73.797501   \n",
      "1      1  2020-01-03 00:00:00.000000  74.287498  75.144997  74.125000   \n",
      "2      2  2020-01-06 00:00:00.000000  73.447502  74.989998  73.187500   \n",
      "3      3  2020-01-07 00:00:00.000000  74.959999  75.224998  74.370003   \n",
      "4      4  2020-01-08 00:00:00.000000  74.290001  76.110001  74.290001   \n",
      "\n",
      "       Close  Adj Close     Volume  Daily_Return  \n",
      "0  75.087502  73.059418  135480400           NaN  \n",
      "1  74.357498  72.349144  146322800     -0.009722  \n",
      "2  74.949997  72.925652  118387200      0.007968  \n",
      "3  74.597504  72.582649  108872000     -0.004703  \n",
      "4  75.797501  73.750237  132079200      0.016086  \n"
     ]
    }
   ],
   "source": [
    "\n",
    "import pandas as pd\n",
    "from sqlalchemy import create_engine, text\n",
    "from sqlalchemy.orm import sessionmaker\n",
    "\n",
    "# Create engine\n",
    "engine = create_engine('sqlite:///stock_market_analysis.sqlite')\n",
    "\n",
    "# Function to check table existence\n",
    "def table_exists(engine, table_name):\n",
    "    exist = engine.execute(f\"SELECT name FROM sqlite_master WHERE type='table' AND name='{table_name}'\").fetchone()\n",
    "    return exist is not None\n",
    "\n",
    "# Create session\n",
    "Session = sessionmaker(bind=engine)\n",
    "\n",
    "# List of tickers\n",
    "tickers = ['MSFT', 'CRM', 'CRWD', 'ZM', 'SHOP', 'AAPL']\n",
    "\n",
    "# Dictionary to store DataFrames for each ticker\n",
    "dataframes = {}\n",
    "\n",
    "# Process each ticker\n",
    "for ticker in tickers:\n",
    "    if table_exists(engine, ticker):\n",
    "        session = Session()\n",
    "        query = text(f\"SELECT * FROM {ticker}\")\n",
    "        result = session.execute(query)\n",
    "        dataframes[ticker] = pd.DataFrame(result.fetchall(), columns=result.keys())\n",
    "        session.close()\n",
    "    else:\n",
    "        print(f\"Table {ticker} does not exist in the database.\")\n",
    "\n",
    "# Display the dataframe for 'AAPL' or process further as needed\n",
    "if 'AAPL' in dataframes:\n",
    "    print(dataframes['AAPL'].head())\n",
    "else:\n",
    "    print(\"No data for AAPL.\")\n",
    "\n"
   ]
  },
  {
   "cell_type": "code",
   "execution_count": null,
   "id": "edf20b5c",
   "metadata": {},
   "outputs": [],
   "source": []
  },
  {
   "cell_type": "code",
   "execution_count": null,
   "id": "c8803d8e",
   "metadata": {},
   "outputs": [],
   "source": []
  }
 ],
 "metadata": {
  "kernelspec": {
   "display_name": "Python (dev)",
   "language": "python",
   "name": "dev"
  },
  "language_info": {
   "codemirror_mode": {
    "name": "ipython",
    "version": 3
   },
   "file_extension": ".py",
   "mimetype": "text/x-python",
   "name": "python",
   "nbconvert_exporter": "python",
   "pygments_lexer": "ipython3",
   "version": "3.11.5"
  }
 },
 "nbformat": 4,
 "nbformat_minor": 5
}
